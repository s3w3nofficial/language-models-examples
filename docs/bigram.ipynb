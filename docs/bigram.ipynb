{
 "cells": [
  {
   "cell_type": "code",
   "execution_count": 1,
   "id": "8620b9f8-e416-41e5-a579-f8d7e8cbee55",
   "metadata": {},
   "outputs": [],
   "source": [
    "import string, random"
   ]
  },
  {
   "cell_type": "code",
   "execution_count": 19,
   "id": "69867918-c350-42c0-8276-ed6d331317d7",
   "metadata": {},
   "outputs": [],
   "source": [
    "DATASET_PATH = \"../datasets/shakespeare.txt\""
   ]
  },
  {
   "cell_type": "code",
   "execution_count": 31,
   "id": "e5c1eb1e-9a75-4cd5-bd27-c10b909396d6",
   "metadata": {},
   "outputs": [],
   "source": [
    "lines = []\n",
    "\n",
    "with open(DATASET_PATH, \"r\") as f:\n",
    "    lines = f.readlines()\n",
    "\n",
    "successor_map = {}\n",
    "window = []\n",
    "\n",
    "for line in lines:\n",
    "    for word in line.split():\n",
    "        clean_word = word.strip(string.punctuation).lower()\n",
    "        window.append(clean_word)\n",
    "      \n",
    "        if len(window) == 2:\n",
    "            key = window[0]\n",
    "            value = window[1]\n",
    "            if key in successor_map:\n",
    "                successor_map[key].append(value)\n",
    "            else:\n",
    "                successor_map[key] = [value]\n",
    "            window.pop(0)"
   ]
  },
  {
   "cell_type": "code",
   "execution_count": 33,
   "id": "dc380f3a-2a8b-4a24-a4b5-50749397291a",
   "metadata": {},
   "outputs": [
    {
     "name": "stdout",
     "output_type": "stream",
     "text": [
      "the lukewarm blood with it in a bearing-cloth for hither duke vincentio sir but a hair \n"
     ]
    }
   ],
   "source": [
    "word = \"the\"\n",
    "print(word, end=' ')\n",
    "\n",
    "for _ in range(15):\n",
    "    successors = successor_map[word]\n",
    "    word = random.choice(successors)\n",
    "    print(word, end=' ')\n",
    "    \n",
    "print(\"\")"
   ]
  }
 ],
 "metadata": {
  "kernelspec": {
   "display_name": "Python 3 (ipykernel)",
   "language": "python",
   "name": "python3"
  },
  "language_info": {
   "codemirror_mode": {
    "name": "ipython",
    "version": 3
   },
   "file_extension": ".py",
   "mimetype": "text/x-python",
   "name": "python",
   "nbconvert_exporter": "python",
   "pygments_lexer": "ipython3",
   "version": "3.12.5"
  }
 },
 "nbformat": 4,
 "nbformat_minor": 5
}
