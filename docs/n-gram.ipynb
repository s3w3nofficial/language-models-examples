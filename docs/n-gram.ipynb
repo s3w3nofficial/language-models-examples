{
 "cells": [
  {
   "cell_type": "code",
   "execution_count": 1,
   "id": "d0f60836-f364-48bd-8cbe-9745cbfa57bf",
   "metadata": {},
   "outputs": [],
   "source": [
    "import string, random"
   ]
  },
  {
   "cell_type": "code",
   "execution_count": 2,
   "id": "8f1fe44a-a122-4777-98f2-49a4aefe860a",
   "metadata": {},
   "outputs": [],
   "source": [
    "DATASET_PATH = \"../datasets/shakespeare.txt\""
   ]
  },
  {
   "cell_type": "code",
   "execution_count": 5,
   "id": "d6e018d7-0f0c-4299-a55c-ec761103eaff",
   "metadata": {},
   "outputs": [],
   "source": [
    "lines = []\n",
    "\n",
    "with open(DATASET_PATH, \"r\") as f:\n",
    "    lines = f.readlines()\n",
    "\n",
    "successor_map = {}\n",
    "window = []\n",
    "\n",
    "for line in lines:\n",
    "    for word in line.split():\n",
    "        clean_word = word.strip(string.punctuation).lower()\n",
    "        window.append(clean_word)\n",
    "      \n",
    "        if len(window) == 3:\n",
    "            key = (window[0], window[1])\n",
    "            value = window[2]\n",
    "            if key in successor_map:\n",
    "                successor_map[key].append(value)\n",
    "            else:\n",
    "                successor_map[key] = [value]\n",
    "            window.pop(0)"
   ]
  },
  {
   "cell_type": "code",
   "execution_count": 6,
   "id": "28e0bd43-b9ae-47ee-9d1e-3ec32ecde434",
   "metadata": {},
   "outputs": [
    {
     "name": "stdout",
     "output_type": "stream",
     "text": [
      "the broken rancour of your justice prove violence in the government of this earth's glory queen elizabeth \n"
     ]
    }
   ],
   "source": [
    "word1 = \"the\"\n",
    "word2 = \"broken\"\n",
    "print(word1, end=' ')\n",
    "print(word2, end=' ')\n",
    "\n",
    "for _ in range(15):\n",
    "    successors = successor_map[(word1, word2)]\n",
    "    word3 = random.choice(successors)\n",
    "    word1, word2 = word2, word3\n",
    "    print(word3, end=' ')\n",
    "\n",
    "print(\"\")"
   ]
  }
 ],
 "metadata": {
  "kernelspec": {
   "display_name": "Python 3 (ipykernel)",
   "language": "python",
   "name": "python3"
  },
  "language_info": {
   "codemirror_mode": {
    "name": "ipython",
    "version": 3
   },
   "file_extension": ".py",
   "mimetype": "text/x-python",
   "name": "python",
   "nbconvert_exporter": "python",
   "pygments_lexer": "ipython3",
   "version": "3.12.5"
  }
 },
 "nbformat": 4,
 "nbformat_minor": 5
}
